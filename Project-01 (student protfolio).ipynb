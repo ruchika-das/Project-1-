{
 "cells": [
  {
   "cell_type": "markdown",
   "metadata": {},
   "source": [
    "# STUDENT PORTFOLIO"
   ]
  },
  {
   "cell_type": "markdown",
   "metadata": {},
   "source": [
    "first we need to define the variables"
   ]
  },
  {
   "cell_type": "code",
   "execution_count": 8,
   "metadata": {},
   "outputs": [
    {
     "name": "stdout",
     "output_type": "stream",
     "text": [
      "First Name : Ruchika\n",
      "Last Name : Das\n",
      "Class : 12\n",
      "Division : A\n",
      "Roll No. : 102\n",
      "Enter Subject 1: Maths\n",
      "Enter Subject 2: Physics\n",
      "Enter Subject 3: Chemistry\n",
      "Enter percentage : 91\n"
     ]
    }
   ],
   "source": [
    "FirstName = str(input(\"First Name : \"))\n",
    "LastName = str(input(\"Last Name : \"))\n",
    "Std = int(input(\"Class : \"))\n",
    "Division = str(input(\"Division : \"))\n",
    "RollNumber = int(input(\"Roll No. : \"))\n",
    "Subject1 = str(input(\"Enter Subject 1: \"))\n",
    "Subject2 = str(input(\"Enter Subject 2: \"))\n",
    "Subject3 = str(input(\"Enter Subject 3: \"))\n",
    "Percentage = float(input(\"Enter percentage : \"))"
   ]
  },
  {
   "cell_type": "code",
   "execution_count": 9,
   "metadata": {},
   "outputs": [
    {
     "name": "stdout",
     "output_type": "stream",
     "text": [
      "********************\n",
      "Student Details\n",
      "--------------------\n",
      "FULL Name: RUCHIKA DAS\n",
      "Class: 12\n",
      "Division: A\n",
      "Roll No: 102\n",
      "--------------------\n",
      "Name 0f Stubjects\n",
      "Subject 1: MATHS\n",
      "Subject 2: PHYSICS\n",
      "Subject 3: CHEMISTRY\n",
      "--------------------\n",
      "RUCHIKA DAS has scored an overall of 91.0% in the final test\n",
      "\n",
      "********************\n",
      "CONGRATULATION, WISHING YOU ALL THE BEST FOR YOUR FUTURE\n"
     ]
    }
   ],
   "source": [
    "print(\"*\"*20)\n",
    "print(\"Student Details\")\n",
    "print(\"-\"*20)\n",
    "print(\"FULL Name: \" + FirstName.upper() + \" \" + LastName.upper())\n",
    "print(\"Class: \" + str(Std))\n",
    "print(\"Division: \" + Division)\n",
    "print(\"Roll No: \" + str(RollNumber))\n",
    "print(\"-\"*20)\n",
    "print(\"Name 0f Stubjects\")\n",
    "print(\"Subject 1: \" + Subject1.upper())\n",
    "print(\"Subject 2: \" + Subject2.upper())\n",
    "print(\"Subject 3: \" + Subject3.upper())\n",
    "print(\"-\"*20)\n",
    "print(FirstName.upper() + \" \" + LastName.upper() + \" has scored an overall of \" + str(Percentage) + \"% in the final test\" \"\\n\")\n",
    "print(\"*\"*20)\n",
    "print(\"CONGRATULATION, WISHING YOU ALL THE BEST FOR YOUR FUTURE\")"
   ]
  },
  {
   "cell_type": "code",
   "execution_count": null,
   "metadata": {},
   "outputs": [],
   "source": []
  }
 ],
 "metadata": {
  "kernelspec": {
   "display_name": "Python 3",
   "language": "python",
   "name": "python3"
  },
  "language_info": {
   "codemirror_mode": {
    "name": "ipython",
    "version": 3
   },
   "file_extension": ".py",
   "mimetype": "text/x-python",
   "name": "python",
   "nbconvert_exporter": "python",
   "pygments_lexer": "ipython3",
   "version": "3.8.3"
  }
 },
 "nbformat": 4,
 "nbformat_minor": 4
}
